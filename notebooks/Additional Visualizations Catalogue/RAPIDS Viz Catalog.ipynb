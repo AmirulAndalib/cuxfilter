{
 "cells": [
  {
   "cell_type": "markdown",
   "id": "7baafd35-2e03-435c-8821-21d4f059cd42",
   "metadata": {
    "tags": []
   },
   "source": [
    "# RAPIDS Compatible Visualization Libraries\n",
    "\n",
    "- RAPIDS cuDF supports advanced data visualization libraries which are popular in the python ecosystem.  "
   ]
  },
  {
   "cell_type": "markdown",
   "id": "ae5c3623-79ae-4a75-b96e-0e665816aede",
   "metadata": {
    "tags": []
   },
   "source": [
    "### Index <a id='index'></a>\n",
    "- [Holoviews](#holoviews) - Declarative objects for instantly visualizable data, building Bokeh plots from convenient high-level specifications\n",
    "- [Hvplot](#hvplot) - Quickly return interactive Bokeh-based HoloViews or GeoViews objects from Pandas, Xarray, orother data structures\n",
    "- [Datashader](#datashader) - Rasterizing huge datasets quickly as fixed-size arrays or images\n",
    "- [Bokeh](#bokeh) - Python library for creating interactive visualizations for modern web browsers\n",
    "- [Plotly](#Plotly) - Interactive charts and maps for Python\n",
    "- [Seaborn](#Seaborn) - Seaborn is a Python data visualization library based on matplotlib.\n",
    "- [PyDeck](#PyDeck) - set of Python bindings for making spatial visualizations with deck.gl, optimized for a Jupyter environment. \n",
    "\n",
    "\n",
    "Note: Make sure to execute the [Base setup](#base-setup) before jumping to individual library sections "
   ]
  },
  {
   "cell_type": "markdown",
   "id": "019f0f3b-bcae-492f-94f2-5b4ea1d4fb3e",
   "metadata": {},
   "source": [
    "## Dashboarding tools and libraries\n",
    "\n",
    "It is possible to use RAPIDS cuDF and cuSpatial to create dashboards with linked charts that support crossfiltering. Some of the libraries that make GPU accelerated crossfiltering possible are:\n",
    "- [Holoviews with Linked Brushing](https://holoviews.org/user_guide/Linked_Brushing.html?highlight=linked%20brushing)\n",
    "- [cuXfilter](https://github.com/rapidsai/cuxfilter)\n",
    "- [Plotly Dash](https://dash.plotly.com/)\n",
    "- [Plotly Dash with Holoviews](https://dash.plotly.com/holoviews)"
   ]
  },
  {
   "cell_type": "code",
   "execution_count": null,
   "id": "6a4dbb6a-3c8b-4fbb-a485-0cb70b9342a1",
   "metadata": {},
   "outputs": [],
   "source": [
    "import warnings\n",
    "warnings.simplefilter(\"ignore\")"
   ]
  },
  {
   "cell_type": "code",
   "execution_count": null,
   "id": "56a1e209-bdc1-416e-b224-ecd34cc23470",
   "metadata": {
    "tags": []
   },
   "outputs": [],
   "source": [
    "# Import common libraries\n",
    "import holoviews as hv\n",
    "import panel as pn\n",
    "\n",
    "pn.extension('plotly', 'deckgl')"
   ]
  },
  {
   "cell_type": "markdown",
   "id": "f8cf1c0d-5bd2-4da0-a4e4-78fd90f8a326",
   "metadata": {
    "tags": []
   },
   "source": [
    "# Holoviews <a id='holoviews'></a>\n",
    "\n",
    "- HoloViews is an open-source Python library designed to make data analysis and visualization seamless and simple.  \n",
    "- With HoloViews, you can usually express what you want to do in very few lines of code, letting you focus on what you are trying to explore and convey, not on the process of plotting.\n",
    "- Read about Holoviews: https://holoviews.org  \n",
    "- Read about RAPIDS compatibilty: https://holoviews.org/reference_manual/holoviews.core.data.html?highlight=cudf#module-holoviews.core.data.cudf\n",
    "\n",
    "[Back to index](#index)"
   ]
  },
  {
   "cell_type": "code",
   "execution_count": null,
   "id": "d5ab36a8-258f-4ebe-9309-dbb3f00e01b2",
   "metadata": {},
   "outputs": [],
   "source": [
    "from examples.holoviews import Charts\n",
    "\n",
    "Charts().view().embed(json=True, load_path=\"./state/\", save_path=\"./state/\", json_prefix=\"testJSON\")"
   ]
  },
  {
   "cell_type": "markdown",
   "id": "bdafa9d3-bc50-42e9-94ee-f5d25c2c978b",
   "metadata": {
    "tags": []
   },
   "source": [
    " <a id='hvplot'></a>\n",
    "# hvPlot\n",
    "\n",
    "- hvPlot provides a high-level plotting API built on HoloViews that provides a general and consistent API for plotting data.\n",
    "- hvPlot can integrate neatly with the individual libraries if an extension mechanism for the native plot APIs is offered, or it can be used as a standalone component.   \n",
    "- hvPlot provides an alternative for the static plotting API provided by Pandas and other libraries, with by default an interactive Bokeh-based plotting API that supports panning, zooming, hovering, and clickable/selectable legends:\n",
    "- Read about hvPlot: http://holoviews.org  \n",
    "- Read about RAPIDS compatibility: https://hvplot.holoviz.org/user_guide/Introduction.html?highlight=rapids#\n",
    "\n",
    "[Back to index](#index)"
   ]
  },
  {
   "cell_type": "code",
   "execution_count": null,
   "id": "c0256896-6fae-4029-96e3-a869d5f13152",
   "metadata": {
    "tags": []
   },
   "outputs": [],
   "source": [
    "from examples.hvplot import Charts\n",
    "\n",
    "Charts().view().embed(json=True, load_path=\"./state/\", save_path=\"./state/\", json_prefix=\"testJSON\")"
   ]
  },
  {
   "cell_type": "markdown",
   "id": "aa7d42fd-b613-4c81-a702-c4c43ba178d8",
   "metadata": {
    "tags": []
   },
   "source": [
    "# Datashader  <a id='datashader'></a>\n",
    "\n",
    "- Datashader is a graphics pipeline system for creating meaningful representations of large datasets quickly and flexibly. Datashader breaks the creation of images into a series of explicit steps that allow computations to be done on intermediate representations. This approach allows accurate and effective visualizations to be produced automatically without trial-and-error parameter tuning, and also makes it simple for data scientists to focus on particular data and relationships of interest in a principled way.\n",
    "- The computation-intensive steps in this process are written in ordinary Python but transparently compiled to machine code using Numba and flexibly distributed across CPU cores and processors using Dask or GPUs using CUDA. This approach provides a highly optimized rendering pipeline that makes it practical to work with extremely large datasets even on standard hardware, while exploiting distributed and GPU systems when available.\n",
    "- Read about Datashader:https://datashader.org  \n",
    "- Read about RAPIDS compatibility: https://datashader.org/user_guide/Performance.html?highlight=cudf#data-objects\n",
    "\n",
    "[Back to index](#index)"
   ]
  },
  {
   "cell_type": "code",
   "execution_count": null,
   "id": "69bc0971-1d5b-4b46-87cf-111989b71b66",
   "metadata": {
    "tags": []
   },
   "outputs": [],
   "source": [
    "from examples.datashader import Charts\n",
    "\n",
    "Charts().view().embed(json=True, load_path=\"./state/\", save_path=\"./state/\", json_prefix=\"testJSON\")"
   ]
  },
  {
   "cell_type": "markdown",
   "id": "9c09739f-e941-4d47-950f-8fa49f79a55d",
   "metadata": {
    "tags": []
   },
   "source": [
    " # Bokeh <a id='bokeh'></a>\n",
    " \n",
    "- Bokeh makes it simple to create common plots, but also can handle custom or specialized use-cases\n",
    "- Tools and widgets let you and your audience probe “what if” scenarios or drill-down into the details of your data.\n",
    "- Plots, dashboards, and apps can be published in web pages or Jupyter notebooks.\n",
    "- Work in Python close to all the PyData tools you are already familiar with.\n",
    "- You can always add custom JavaScript to support advanced or specialized cases.\n",
    "\n",
    "Read about Bokeh: https://bokeh.org/  \n",
    "Documentation: https://docs.bokeh.org/en/latest/\n",
    "\n",
    "[Back to index](#index)"
   ]
  },
  {
   "cell_type": "code",
   "execution_count": null,
   "id": "70e9c6af-7799-4efa-a4cb-991137bee7f6",
   "metadata": {},
   "outputs": [],
   "source": [
    "from examples.bokeh import Charts\n",
    "\n",
    "Charts().view().embed(json=True, load_path=\"./state/\", save_path=\"./state/\", json_prefix=\"testJSON\")"
   ]
  },
  {
   "cell_type": "markdown",
   "id": "d38f1a9a-d41b-4953-bf71-d607fcf65ffd",
   "metadata": {},
   "source": [
    "# Plotly<a id='plotly'></a>\n",
    "- Plotly provides online graphing, analytics, and statistics tools for individuals and collaboration, as well as scientific graphing libraries for Python, R, MATLAB, Perl, Julia, Arduino, and REST. \n",
    "- Read about Plotly Graphing libraries: https://plotly.com/graphing-libraries/  \n",
    "- Read about RAPIDS compatibility: https://dash.plotly.com/holoviews#gpu-accelerating-datashader-and-linked-selections-with-rapids\n",
    "\n",
    "[Back to index](#index)"
   ]
  },
  {
   "cell_type": "code",
   "execution_count": null,
   "id": "8e42c66b-15cd-4349-8d21-9e35568097b4",
   "metadata": {},
   "outputs": [],
   "source": [
    "from examples.plotly import Charts\n",
    "\n",
    "Charts().view().embed(json=True, load_path=\"./state/\", save_path=\"./state/\", json_prefix=\"testJSON\")"
   ]
  },
  {
   "cell_type": "markdown",
   "id": "4f3a8846-1550-45e7-a21f-380bfacedf91",
   "metadata": {},
   "source": [
    "# Seaborn"
   ]
  },
  {
   "cell_type": "markdown",
   "id": "1937575a-6b0d-4ca0-b761-9fc4b4f90519",
   "metadata": {},
   "source": [
    "- [Seaborn](https://seaborn.pydata.org/index.html) is a Python data visualization library based on [matplotlib](https://matplotlib.org/). It provides a high-level interface for drawing attractive and informative statistical graphics.\n",
    "- For a brief introduction to the ideas behind the library, you can read the [introductory notes](https://seaborn.pydata.org/tutorial/introduction.html) or the [paper](https://joss.theoj.org/papers/10.21105/joss.03021). \n",
    "- Visit the [installation page](https://seaborn.pydata.org/installing.html) to see how you can download the package and get started with it.\n",
    "\n",
    "[Back to index](#index)"
   ]
  },
  {
   "cell_type": "code",
   "execution_count": null,
   "id": "d1e5e244-b151-49e8-b536-ab1febbfb73d",
   "metadata": {},
   "outputs": [],
   "source": [
    "from examples.seaborn import Charts\n",
    "\n",
    "Charts().view().embed(json=True, load_path=\"./state/\", save_path=\"./state/\", json_prefix=\"testJSON\")"
   ]
  },
  {
   "cell_type": "markdown",
   "id": "6b0ce6cf-67ff-42ac-9d91-5ff380eae1f1",
   "metadata": {},
   "source": [
    "# PyDeck\n",
    "- The pydeck library is a set of Python bindings for making spatial visualizations with deck.gl, optimized for a Jupyter environment.\n",
    "- deck.gl is a WebGL-powered framework for visual exploratory data analysis of large datasets.\n",
    "- API documentation: https://pydeck.gl/layer.html   \n",
    "- Read about pyDeck: https://pypi.org/project/pydeck/  \n",
    "- Read about deck.gl: https://deck.gl/\n",
    "\n",
    "[Back to index](#index)"
   ]
  }
 ],
 "metadata": {
  "kernelspec": {
   "display_name": "Python 3 (ipykernel)",
   "language": "python",
   "name": "python3"
  },
  "language_info": {
   "codemirror_mode": {
    "name": "ipython",
    "version": 3
   },
   "file_extension": ".py",
   "mimetype": "text/x-python",
   "name": "python",
   "nbconvert_exporter": "python",
   "pygments_lexer": "ipython3",
   "version": "3.9.15"
  },
  "vscode": {
   "interpreter": {
    "hash": "f6aa187a6aaade5733ad3b5ff5c82df04fb0b3dfac03c5ad044e20fb4c7093be"
   }
  }
 },
 "nbformat": 4,
 "nbformat_minor": 5
}
