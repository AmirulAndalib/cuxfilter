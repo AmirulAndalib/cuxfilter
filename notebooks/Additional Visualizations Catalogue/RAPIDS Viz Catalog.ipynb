{
 "cells": [
  {
   "cell_type": "markdown",
   "id": "7baafd35-2e03-435c-8821-21d4f059cd42",
   "metadata": {
    "tags": []
   },
   "source": [
    "# RAPIDS Compatible Visualization Libraries\n",
    "\n",
    "- RAPIDS cuDF supports advanced data visualization libraries which are popular in the python ecosystem.  \n",
    "- With just [one line](#one-line) change in code, RAPIDS enables you to switch to GPU backend.\n"
   ]
  },
  {
   "cell_type": "markdown",
   "id": "ae5c3623-79ae-4a75-b96e-0e665816aede",
   "metadata": {
    "tags": []
   },
   "source": [
    "### Index <a id='index'></a>\n",
    "- [Holoviews](#holoviews) - Declarative objects for instantly visualizable data, building Bokeh plots from convenient high-level specifications\n",
    "- [Hvplot](#hvplot) - Quickly return interactive Bokeh-based HoloViews or GeoViews objects from Pandas, Xarray, orother data structures\n",
    "- [Datashader](#datashader) - Rasterizing huge datasets quickly as fixed-size arrays or images\n",
    "- [Bokeh](#bokeh) - Python library for creating interactive visualizations for modern web browsers\n",
    "- [Plotly Dash](#plotly-dash) - Dash apps give a point-&-click interface to models written in Python, vastly expanding the notion of what's possible in a traditional \"dashboard.\" \n",
    "- [pyDeck](#pydeck) - set of Python bindings for making spatial visualizations with deck.gl, optimized for a Jupyter environment. \n",
    "\n",
    "Note: Make sure to execute the [Base setup](#base-setup) before jumping to individual library sections "
   ]
  },
  {
   "cell_type": "markdown",
   "id": "99da36cf-79b0-4a03-b82e-7154094a2406",
   "metadata": {
    "tags": []
   },
   "source": [
    "import sys\n",
    "if not sys.warnoptions:\n",
    "    import warnings\n",
    "    warnings.simplefilter(\"ignore\")\n",
    "### Base setup <a id='base-setup'></a>"
   ]
  },
  {
   "cell_type": "code",
   "execution_count": null,
   "id": "6a4dbb6a-3c8b-4fbb-a485-0cb70b9342a1",
   "metadata": {},
   "outputs": [],
   "source": [
    "import sys\n",
    "if not sys.warnoptions:\n",
    "    import warnings\n",
    "    warnings.simplefilter(\"ignore\")"
   ]
  },
  {
   "cell_type": "code",
   "execution_count": null,
   "id": "56a1e209-bdc1-416e-b224-ecd34cc23470",
   "metadata": {
    "tags": []
   },
   "outputs": [],
   "source": [
    "# Import common libraries\n",
    "import holoviews as hv\n",
    "import panel as pn\n",
    "\n",
    "pn.extension(throttled=True)\n",
    "pn.extension('ace', 'plotly')"
   ]
  },
  {
   "cell_type": "markdown",
   "id": "f8cf1c0d-5bd2-4da0-a4e4-78fd90f8a326",
   "metadata": {
    "tags": []
   },
   "source": [
    "# Holoviews <a id='holoviews'></a>\n",
    "\n",
    "- HoloViews is an open-source Python library designed to make data analysis and visualization seamless and simple.  \n",
    "- With HoloViews, you can usually express what you want to do in very few lines of code, letting you focus on what you are trying to explore and convey, not on the process of plotting.\n",
    "\n",
    "Read about Holoviews: https://holoviews.org  \n",
    "User guide: https://holoviews.org/user_guide/  \n",
    "Read about RAPIDS compatibilty: https://holoviews.org/reference_manual/holoviews.core.data.html?highlight=cudf#module-holoviews.core.data.cudf\n",
    "\n",
    "[Back to index](#index)"
   ]
  },
  {
   "cell_type": "code",
   "execution_count": null,
   "id": "dd6c642a-68cf-49dc-93f0-9ea5a67a7c5c",
   "metadata": {},
   "outputs": [],
   "source": [
    "from examples.holoviews import Charts\n",
    "\n",
    "Charts().view().embed(json=True, load_path=\"./\", save_path=\"./\", json_prefix=\"testJSON\")"
   ]
  },
  {
   "cell_type": "markdown",
   "id": "bdafa9d3-bc50-42e9-94ee-f5d25c2c978b",
   "metadata": {
    "tags": []
   },
   "source": [
    " <a id='hvplot'></a>\n",
    "# hvPlot\n",
    "\n",
    "- hvPlot provides a high-level plotting API built on HoloViews that provides a general and consistent API for plotting data.\n",
    "- hvPlot can integrate neatly with the individual libraries if an extension mechanism for the native plot APIs is offered, or it can be used as a standalone component.   \n",
    "- hvPlot provides an alternative for the static plotting API provided by Pandas and other libraries, with by default an interactive Bokeh-based plotting API that supports panning, zooming, hovering, and clickable/selectable legends:\n",
    " \n",
    "Read about hvPlot: http://holoviews.org  \n",
    "User guide: http://holoviews.org/user_guide  \n",
    "Read about RAPIDS compatibility: https://hvplot.holoviz.org/user_guide/Introduction.html?highlight=rapids#\n",
    "\n",
    "[Back to index](#index)"
   ]
  },
  {
   "cell_type": "code",
   "execution_count": null,
   "id": "c0256896-6fae-4029-96e3-a869d5f13152",
   "metadata": {
    "tags": []
   },
   "outputs": [],
   "source": [
    "from examples.hvplot import Charts\n",
    "\n",
    "Charts().view().embed(json=True, load_path=\"./\", save_path=\"./\", json_prefix=\"testJSON\")"
   ]
  },
  {
   "cell_type": "markdown",
   "id": "aa7d42fd-b613-4c81-a702-c4c43ba178d8",
   "metadata": {
    "tags": []
   },
   "source": [
    "# Datashader  <a id='datashader'></a>\n",
    "\n",
    "Datashader is a graphics pipeline system for creating meaningful representations of large datasets quickly and flexibly. Datashader breaks the creation of images into a series of explicit steps that allow computations to be done on intermediate representations. This approach allows accurate and effective visualizations to be produced automatically without trial-and-error parameter tuning, and also makes it simple for data scientists to focus on particular data and relationships of interest in a principled way.\n",
    "\n",
    "The computation-intensive steps in this process are written in ordinary Python but transparently compiled to machine code using Numba and flexibly distributed across CPU cores and processors using Dask or GPUs using CUDA. This approach provides a highly optimized rendering pipeline that makes it practical to work with extremely large datasets even on standard hardware, while exploiting distributed and GPU systems when available.\n",
    "\n",
    "Read about Datashader:https://datashader.org  \n",
    "User guide:https://datashader.org/user_guide  \n",
    "Read about RAPIDS compatibility: https://datashader.org/user_guide/Performance.html?highlight=cudf#data-objects\n",
    "\n",
    "[Back to index](#index)"
   ]
  },
  {
   "cell_type": "code",
   "execution_count": null,
   "id": "69bc0971-1d5b-4b46-87cf-111989b71b66",
   "metadata": {
    "tags": []
   },
   "outputs": [],
   "source": [
    "from examples.datashader import Charts\n",
    "\n",
    "Charts().view().embed(json=True, load_path=\"./\", save_path=\"./\", json_prefix=\"testJSON\")"
   ]
  },
  {
   "cell_type": "markdown",
   "id": "9c09739f-e941-4d47-950f-8fa49f79a55d",
   "metadata": {
    "tags": []
   },
   "source": [
    " # Bokeh <a id='bokeh'></a>\n",
    " \n",
    "- Bokeh makes it simple to create common plots, but also can handle custom or specialized use-cases\n",
    "- Tools and widgets let you and your audience probe “what if” scenarios or drill-down into the details of your data.\n",
    "- Plots, dashboards, and apps can be published in web pages or Jupyter notebooks.\n",
    "- Work in Python close to all the PyData tools you are already familiar with.\n",
    "- You can always add custom JavaScript to support advanced or specialized cases.\n",
    "\n",
    "Read about Bokeh: https://bokeh.org/  \n",
    "Documentation: https://docs.bokeh.org/en/latest/\n",
    "\n",
    "[Back to index](#index)"
   ]
  },
  {
   "cell_type": "code",
   "execution_count": null,
   "id": "70e9c6af-7799-4efa-a4cb-991137bee7f6",
   "metadata": {},
   "outputs": [],
   "source": [
    "from examples.bokeh import Charts\n",
    "\n",
    "Charts().view().embed(json=True, load_path=\"./\", save_path=\"./\", json_prefix=\"testJSON\")"
   ]
  },
  {
   "cell_type": "markdown",
   "id": "d38f1a9a-d41b-4953-bf71-d607fcf65ffd",
   "metadata": {},
   "source": [
    "# Plotly <a id='plotly'></a>\n",
    "- Plotly provides online graphing, analytics, and statistics tools for individuals and collaboration, as well as scientific graphing libraries for Python, R, MATLAB, Perl, Julia, Arduino, and REST.\n",
    "- Dash is a python framework created by plotly for creating interactive web applications.\n",
    "- Dash & Dash Enterprise let you build & deploy analytic web apps using Python.\n",
    "\n",
    "Read about Plotly Dash: https://plotly.com/dash/  \n",
    "User guide: https://dash.plotly.com/  \n",
    "Read about Plotly Graphing libraries: https://plotly.com/graphing-libraries/  \n",
    "Read about RAPIDS compatibility: https://dash.plotly.com/holoviews#gpu-accelerating-datashader-and-linked-selections-with-rapids\n",
    "\n",
    "[Back to index](#index)"
   ]
  },
  {
   "cell_type": "code",
   "execution_count": null,
   "id": "8e42c66b-15cd-4349-8d21-9e35568097b4",
   "metadata": {},
   "outputs": [],
   "source": [
    "from examples.plotly import Charts\n",
    "\n",
    "Charts().view().embed(json=True, load_path=\"./\", save_path=\"./\", json_prefix=\"testJSON\")"
   ]
  },
  {
   "cell_type": "markdown",
   "id": "4f3a8846-1550-45e7-a21f-380bfacedf91",
   "metadata": {},
   "source": [
    "# Seaborn"
   ]
  },
  {
   "cell_type": "markdown",
   "id": "1937575a-6b0d-4ca0-b761-9fc4b4f90519",
   "metadata": {},
   "source": [
    "[Seaborn](https://seaborn.pydata.org/index.html) is a Python data visualization library based on [matplotlib](https://matplotlib.org/). It provides a high-level interface for drawing attractive and informative statistical graphics.\n",
    "\n",
    "For a brief introduction to the ideas behind the library, you can read the [introductory notes](https://seaborn.pydata.org/tutorial/introduction.html) or the [paper](https://joss.theoj.org/papers/10.21105/joss.03021). \n",
    "\n",
    "Visit the [installation page](https://seaborn.pydata.org/installing.html) to see how you can download the package and get started with it."
   ]
  },
  {
   "cell_type": "code",
   "execution_count": null,
   "id": "d1e5e244-b151-49e8-b536-ab1febbfb73d",
   "metadata": {},
   "outputs": [],
   "source": [
    "from examples.seaborn import Charts\n",
    "\n",
    "Charts().view().embed(json=True, load_path=\"./\", save_path=\"./\", json_prefix=\"testJSON\")"
   ]
  },
  {
   "cell_type": "markdown",
   "id": "cc76006e-1a72-4daa-884e-ff633409d291",
   "metadata": {
    "tags": []
   },
   "source": [
    "# Plotly Dash  <a id='plotly-dash'></a>\n",
    "- Plotly provides online graphing, analytics, and statistics tools for individuals and collaboration, as well as scientific graphing libraries for Python, R, MATLAB, Perl, Julia, Arduino, and REST.\n",
    "- Dash is a python framework created by plotly for creating interactive web applications.\n",
    "- Dash & Dash Enterprise let you build & deploy analytic web apps using Python.\n",
    "\n",
    "Read about Plotly Dash: https://plotly.com/dash/  \n",
    "User guide: https://dash.plotly.com/  \n",
    "Read about Plotly Graphing libraries: https://plotly.com/graphing-libraries/  \n",
    "Read about RAPIDS compatibility: https://dash.plotly.com/holoviews#gpu-accelerating-datashader-and-linked-selections-with-rapids\n",
    "\n",
    "[Back to index](#index)"
   ]
  },
  {
   "cell_type": "markdown",
   "id": "9921ce23-5619-4740-8761-10a4b4fe66fd",
   "metadata": {},
   "source": [
    "### CPU/GPU"
   ]
  },
  {
   "cell_type": "code",
   "execution_count": null,
   "id": "0db0a451-2bc5-43d6-b5bb-b4bf7f78f569",
   "metadata": {
    "tags": []
   },
   "outputs": [],
   "source": [
    "# Load additional libraries for plotly dash\n",
    "# import dash\n",
    "# from dash import html\n",
    "# import holoviews as hv # HoloViews provides a uniform interface to a variety of data structures, making it easy to start out by visualizing small pandas DataFrames and then scale up to GPU accelerated RAPIDS cudf DataFrames, or larger than memory Dask DataFrames.\n",
    "# from holoviews.plotting.plotly.dash import to_dash # pip install additional suggested packages if error rises | Deprecation warning"
   ]
  },
  {
   "cell_type": "code",
   "execution_count": null,
   "id": "773dcea3-c70a-4c03-99c7-9b5ffb3c39e8",
   "metadata": {
    "tags": []
   },
   "outputs": [],
   "source": [
    "# Wrap dataframe in a HoloViews Dataset. \n",
    "# holoviews_dataset = hv.Dataset(dataset)"
   ]
  },
  {
   "cell_type": "markdown",
   "id": "af8c8af2-88c1-4e21-b059-0f7afea6cc77",
   "metadata": {},
   "source": [
    "This Dataset is then used to construct a Points element and a Curve element. "
   ]
  },
  {
   "cell_type": "code",
   "execution_count": null,
   "id": "9489ebcc-0c4c-4b60-9ee4-24856ea7cdd1",
   "metadata": {
    "tags": []
   },
   "outputs": [],
   "source": [
    "# Create a Dash app\n",
    "# app = dash.Dash(__name__)\n",
    "\n",
    "# # Create curve charts\n",
    "# curve_x = hv.Curve(holoviews_dataset,kdims='vertex',vdims='x').opts(color='red',)\n",
    "# curve_y = hv.Curve(holoviews_dataset,kdims='vertex',vdims='y').opts(color='blue')\n",
    "# stacked_lines = (curve_x*curve_y).opts(ylabel='value',title='Stacked line graph',width=1800, height=500) #overlay\n",
    "# # Create points chart\n",
    "# points = hv.Points(data=holoviews_dataset,kdims=['x','y'],vdims='cluster').opts(color='cluster',height=500,width=700,title='Points graph')\n",
    "\n",
    "# # HoloViews elements and containers can be converted into Dash components using the to_dash function.\n",
    "# #These two elements are converted into two Dash Graph components using the to_dash function, and are placed into a Div component along with the associated Store component.\n",
    "# components = to_dash(app, [points,stacked_lines]) \n",
    "# app.layout = html.Div(components.children)\n",
    "\n",
    "# # Run app\n",
    "# if __name__ == \"__main__\":\n",
    "#     app.run_server(debug=False)\n"
   ]
  },
  {
   "cell_type": "markdown",
   "id": "dcff0122-71fd-4c09-aa6b-9ac107ccaf75",
   "metadata": {
    "tags": []
   },
   "source": [
    "# pyDeck <a id='pydeck'></a>\n",
    "- The pydeck library is a set of Python bindings for making spatial visualizations with deck.gl, optimized for a Jupyter environment.\n",
    "- deck.gl is a WebGL-powered framework for visual exploratory data analysis of large datasets.\n",
    "\n",
    "API documentation: https://pydeck.gl/layer.html   \n",
    "Read about pyDeck: https://pypi.org/project/pydeck/  \n",
    "Read about deck.gl: https://deck.gl/\n",
    "\n",
    "[Back to index](#index)"
   ]
  },
  {
   "cell_type": "markdown",
   "id": "292b4136-1f5d-4a8b-af9b-4be16a961ecc",
   "metadata": {},
   "source": [
    "### CPU/GPU"
   ]
  },
  {
   "cell_type": "code",
   "execution_count": null,
   "id": "46c7ea74-87ba-43b5-a53e-c53f377f0962",
   "metadata": {},
   "outputs": [],
   "source": [
    "# Load additional libraries for pyDeck\n",
    "# import pydeck as pdk\n",
    "# from pydeck.data_utils import assign_random_colors"
   ]
  },
  {
   "cell_type": "code",
   "execution_count": null,
   "id": "54e9abd6-9c6a-44ca-bab1-f69eac8f0c67",
   "metadata": {},
   "outputs": [],
   "source": [
    "# Generate cuDF dataframe\n",
    "# gpu_df = generate_random_points(nodes=no_of_points,flag='gpu')\n",
    "# # NOTE: pyDeck does not take cuDF directly, convert cudf dataframe to pandas df\n",
    "# dataset = gpu_df.to_pandas()"
   ]
  },
  {
   "cell_type": "code",
   "execution_count": null,
   "id": "c5d96328-0c7e-4a02-90e7-39c504f04de8",
   "metadata": {},
   "outputs": [],
   "source": [
    "# Assign distinct color based on cluster\n",
    "\n",
    "# Convert to categorical (string) column to map color\n",
    "# dataset['cluster_s'] = dataset.cluster.apply(lambda i: str(i))\n",
    "# color_lookup = assign_random_colors(dataset['cluster_s'])\n",
    "# # Assign a color based on cluster\n",
    "# dataset['color'] = dataset.cluster_s.apply(lambda row: color_lookup.get(row))\n",
    "# Data now has an RGB color by cluster"
   ]
  },
  {
   "cell_type": "code",
   "execution_count": null,
   "id": "ca0de08c-12a4-478e-ab5a-ad11cdbdbc2c",
   "metadata": {},
   "outputs": [],
   "source": [
    "# Define layers\n",
    "\n",
    "# Create scatter chart\n",
    "# scatter_layer = pdk.Layer(\n",
    "#     \"ScatterplotLayer\",\n",
    "#     data=dataset,\n",
    "#     get_position=['x', 'y'],\n",
    "#     radius_unit='\"pixels\"',  # Many deck.gl layers default to radius units in meters\n",
    "#     get_fill_color= 'color',\n",
    "#     highlight_color=[255, 140, 255],\n",
    "#     pickable=True,\n",
    "#     get_radius=1,\n",
    "#     radius_min_pixels=1\n",
    "# )\n",
    "\n",
    "# # Create an x and y axis\n",
    "# axis_layer = pdk.Layer(\n",
    "#     \"PathLayer\",\n",
    "#     data=[\n",
    "#         {'path': [[-100000, 0], [100000, 0]]},\n",
    "#         {'path': [[0, -100000], [0, 100000]]}\n",
    "#     ],\n",
    "#     get_path=\"path\",\n",
    "#     width_unit='\"pixels\"',\n",
    "#     get_color=[255, 255, 255],\n",
    "#     get_width=10,\n",
    "# )\n",
    "\n",
    "# # Set the viewport location\n",
    "# view_state = pdk.ViewState(target=[0, 0], zoom=-2.5)\n",
    "# view = pdk.View(\n",
    "#     type=\"OrthographicView\", # Orthographic view for non geospatial data\n",
    "#     controller=True\n",
    "# )\n",
    "\n",
    "# # Combined all of it and render a viewport\n",
    "# r = pdk.Deck(\n",
    "#     [scatter_layer],\n",
    "#     map_provider=None,\n",
    "#     initial_view_state=view_state,\n",
    "#     views=[view]\n",
    "# )\n",
    "# r.to_html(css_background_color='black')"
   ]
  },
  {
   "cell_type": "code",
   "execution_count": null,
   "id": "ca561e61-ffb5-4cbe-8465-81b987b7fb52",
   "metadata": {},
   "outputs": [],
   "source": [
    "# Define layers\n",
    "\n",
    "# Create multiple line chart\n",
    "# line1_layer = pdk.Layer(\n",
    "#     \"PathLayer\",\n",
    "#     data= [\n",
    "#         {\"path\":dataset[['vertex','y']].values.tolist()}\n",
    "#     ],\n",
    "#     get_path=\"path\",\n",
    "#     width_unit='\"pixels\"',\n",
    "#     get_color=[255,0,0],\n",
    "#     get_width=5,\n",
    "# )\n",
    "\n",
    "# line2_layer = pdk.Layer(\n",
    "#     \"PathLayer\",\n",
    "#     data= [\n",
    "#         {\"path\":dataset[['vertex','x']].values.tolist()}\n",
    "#     ],\n",
    "#     get_path=\"path\",\n",
    "#     width_unit='\"pixels\"',\n",
    "#     get_color=[0,0,255],\n",
    "#     get_width=5,\n",
    "# )\n",
    "\n",
    "\n",
    "# # Create x and y axis\n",
    "# axis_layer = pdk.Layer(\n",
    "#     \"PathLayer\",\n",
    "#     data=[\n",
    "#         {'path': [[-100000, 0], [100000, 0]]},\n",
    "#         {'path': [[0, -100000], [0, 100000]]}\n",
    "#     ],\n",
    "#     get_path=\"path\",\n",
    "#     width_unit='\"pixels\"',\n",
    "#     get_color=[255, 255, 255],\n",
    "#     get_width=5,\n",
    "# )\n",
    "\n",
    "# # Add labels to x and y axis\n",
    "# # set limit for labels\n",
    "# x_range = round(dataset['vertex'].max()/100)*100\n",
    "# y_range = max(round(dataset['x'].max()/100),round(dataset['y'].max()/100))*100\n",
    "\n",
    "# label_data = [{\"x\": i, \"y\": 0, \"label\": str(i)} for i in range(0, x_range+1,1000) if i % 10 == 0]\n",
    "# label_data += [{\"x\": 0, \"y\": i, \"label\": str(-1 * i)} for i in range(-y_range, y_range+1,200) if i % 10 == 0]\n",
    "\n",
    "# axis_labels = pdk.Layer(\n",
    "#     \"TextLayer\",\n",
    "#     data=label_data,\n",
    "#     get_position=['x', 'y'],\n",
    "#     get_size=10,\n",
    "#     get_text='label',\n",
    "#     get_alignment_baseline=\"'top'\",\n",
    "#     get_color=[255,255,255],\n",
    "#     get_text_anchor = \"'end'\",\n",
    "#     get_pixel_offset = [-5,5]\n",
    "# )\n",
    "\n",
    "# # Set the viewport location\n",
    "# view_state = pdk.ViewState(target=[10000,0], zoom=-3)\n",
    "# view = pdk.View(\n",
    "#     type=\"OrthographicView\", # Orthographic view for non geospatial data\n",
    "#     controller=True\n",
    "# )\n",
    "\n",
    "# # Combined all of it and render a viewport\n",
    "# r = pdk.Deck(\n",
    "#     [line1_layer,line2_layer,axis_labels,axis_layer],\n",
    "#     map_provider=None,\n",
    "#     initial_view_state=view_state,\n",
    "#     views=[view],\n",
    "# )\n",
    "# r.to_html(css_background_color='black')"
   ]
  }
 ],
 "metadata": {
  "kernelspec": {
   "display_name": "Python 3 (ipykernel)",
   "language": "python",
   "name": "python3"
  },
  "language_info": {
   "codemirror_mode": {
    "name": "ipython",
    "version": 3
   },
   "file_extension": ".py",
   "mimetype": "text/x-python",
   "name": "python",
   "nbconvert_exporter": "python",
   "pygments_lexer": "ipython3",
   "version": "3.9.15"
  }
 },
 "nbformat": 4,
 "nbformat_minor": 5
}
